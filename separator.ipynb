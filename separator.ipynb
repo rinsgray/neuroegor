{
 "cells": [
  {
   "cell_type": "code",
   "execution_count": 1,
   "id": "4148bdad-25c6-48f4-85f0-8c13bde5dcc2",
   "metadata": {},
   "outputs": [],
   "source": [
    "import pandas as pd"
   ]
  },
  {
   "cell_type": "code",
   "execution_count": 2,
   "id": "a5774876-d73d-4247-a3c2-4d4f2e0b5072",
   "metadata": {},
   "outputs": [],
   "source": [
    "data = pd.read_csv('dataset_2.csv')"
   ]
  },
  {
   "cell_type": "code",
   "execution_count": 4,
   "id": "7f7ddb29-31fc-43b1-bf3e-e3051f6af942",
   "metadata": {},
   "outputs": [
    {
     "data": {
      "text/plain": [
       "41684"
      ]
     },
     "execution_count": 4,
     "metadata": {},
     "output_type": "execute_result"
    }
   ],
   "source": [
    "len(data)"
   ]
  },
  {
   "cell_type": "code",
   "execution_count": 8,
   "id": "87db9478-ab7d-4e18-88fd-2a31e1261e0b",
   "metadata": {},
   "outputs": [],
   "source": [
    "for i in range(41):\n",
    "    df_new = data[i*1000:(i+1)*1000]\n",
    "    df_new['energy'] = []\n",
    "    df_new.to_csv('split_data/data_'+str(i)+'.csv')"
   ]
  },
  {
   "cell_type": "code",
   "execution_count": null,
   "id": "8444b0cb-9c8e-4563-b561-5ccfd6075a48",
   "metadata": {},
   "outputs": [],
   "source": [
    "df_new = data[41000:]\n",
    "df_new.to_csv('split_data/data_41.csv')"
   ]
  }
 ],
 "metadata": {
  "kernelspec": {
   "display_name": "Python 3 (ipykernel)",
   "language": "python",
   "name": "python3"
  },
  "language_info": {
   "codemirror_mode": {
    "name": "ipython",
    "version": 3
   },
   "file_extension": ".py",
   "mimetype": "text/x-python",
   "name": "python",
   "nbconvert_exporter": "python",
   "pygments_lexer": "ipython3",
   "version": "3.9.7"
  }
 },
 "nbformat": 4,
 "nbformat_minor": 5
}
