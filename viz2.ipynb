{
 "cells": [
  {
   "cell_type": "code",
   "execution_count": 1,
   "metadata": {
    "id": "vb-DxPzec75Q"
   },
   "outputs": [],
   "source": [
    "import numpy as np\n",
    "import pandas as pd\n",
    "import matplotlib.pyplot as plt\n",
    "import matplotlib.colors as colors\n",
    "import math as m"
   ]
  },
  {
   "cell_type": "code",
   "execution_count": 2,
   "metadata": {
    "id": "gc5ejOykdrk3"
   },
   "outputs": [],
   "source": [
    "e = {\"Al\": 0.003799,\n",
    "     \"H\": 0.0008617,\n",
    "     \"C\": 0.0017,\n",
    "     \"O\": 0.001891,\n",
    "     \"Zn\": 0.052206781,\n",
    "     \"F\": 0.00622696}\n",
    "g = {\"Al\": 2.0,\n",
    "     \"H\": 1.2,\n",
    "     \"C\": 1.7,\n",
    "     \"O\": 1.52,\n",
    "     \"Zn\": 1.739032,\n",
    "     \"F\": 0.812496}"
   ]
  },
  {
   "cell_type": "code",
   "execution_count": 3,
   "metadata": {
    "colab": {
     "base_uri": "https://localhost:8080/"
    },
    "id": "LdoKFUWpOx5a",
    "outputId": "855dfdaf-f5dc-44ec-dee8-006b41e74705"
   },
   "outputs": [],
   "source": [
    "# from google.colab import drive\n",
    "# drive.mount('/content/gdrive')"
   ]
  },
  {
   "cell_type": "code",
   "execution_count": 4,
   "metadata": {
    "id": "C55dGrQCdsge"
   },
   "outputs": [],
   "source": [
    "data = pd.read_csv('dataset_2.csv')"
   ]
  },
  {
   "cell_type": "code",
   "execution_count": 5,
   "metadata": {
    "id": "O0QMx7e7d7Vu"
   },
   "outputs": [
    {
     "name": "stdout",
     "output_type": "stream",
     "text": [
      "0 cell_x: 12.80 cell_y: 12.63 cell_z: 12.80\n",
      "Wall time: 46.8 ms\n"
     ]
    }
   ],
   "source": [
    "%%time\n",
    "xyze = pd.DataFrame(columns=['x', 'y', 'z', 'el'])\n",
    "for c in range(len(data)):\n",
    "    \n",
    "    cifd = data.loc[c]['cif'].splitlines()\n",
    "    k_a = float(cifd[8].split()[1])\n",
    "    k_b = float(cifd[9].split()[1])\n",
    "    k_c = float(cifd[10].split()[1])\n",
    "    for i in cifd[20:]:\n",
    "        x = float(i.split()[2]) * k_a\n",
    "        y = float(i.split()[3]) * k_b\n",
    "        z = float(i.split()[4]) * k_c\n",
    "        el = i.split()[1]\n",
    "        xyze.loc[len(xyze)] = [x, y, z, el]\n",
    "    xl,yl,zl = (min(xyze['z']), min(xyze['x']), min(xyze['y']))\n",
    "    xh,yh,zh = (max(xyze['z']), max(xyze['x']), max(xyze['y']))\n",
    "    print('{} cell_x: {:.2f} cell_y: {:.2f} cell_z: {:.2f}'.format(c,xh-xl,yh-yl,zh-zl))\n",
    "    if c==0:\n",
    "        break"
   ]
  },
  {
   "cell_type": "code",
   "execution_count": 53,
   "metadata": {
    "id": "f0peFmFld_u9"
   },
   "outputs": [
    {
     "name": "stdout",
     "output_type": "stream",
     "text": [
      "12.804901023966 0.0\n"
     ]
    }
   ],
   "source": [
    "zl,xl,yl = (min(xyze['z']), min(xyze['x']), min(xyze['y']))\n",
    "zh,xh,yh = (max(xyze['z']), max(xyze['x']), max(xyze['y']))\n",
    "print(yh,yl)\n",
    "xyze['x']-=xl\n",
    "xyze['y']-=yl\n",
    "xyze['z']-=zl\n"
   ]
  },
  {
   "cell_type": "code",
   "execution_count": 54,
   "metadata": {
    "id": "32KSNluWeERa"
   },
   "outputs": [],
   "source": [
    "cell_size = max((max(xyze['z']), max(xyze['x']), max(xyze['y'])))\n",
    "x_lin = np.linspace(0, cell_size, 51)\n",
    "y_lin = np.linspace(0, cell_size, 51)\n",
    "z_lin = np.linspace(0, cell_size, 51)\n",
    "X, Y, Z = np.meshgrid(x_lin, y_lin, z_lin)"
   ]
  },
  {
   "cell_type": "code",
   "execution_count": 55,
   "metadata": {
    "id": "btZKU7tXn-zP"
   },
   "outputs": [
    {
     "name": "stdout",
     "output_type": "stream",
     "text": [
      "0.0\n",
      "0.0\n"
     ]
    }
   ],
   "source": [
    "yy = np.array(xyze[['y']]) - cell_size\n",
    "yyy = np.array(xyze[['y']]) + cell_size\n",
    "xx = np.array(xyze[['x']]) - cell_size\n",
    "xxx = np.array(xyze[['x']]) + cell_size\n",
    "ellll = xyze[['x', 'y', 'z', 'el']]\n",
    "\n",
    "print(min(ellll['y']))\n",
    "\n",
    "for i in range(len(ellll)):\n",
    "    ellll.at[i, 'y'] = yyy[i][0]\n",
    "p = xyze.append(ellll, ignore_index=True)\n",
    "ellll = xyze[['x', 'y', 'z', 'el']]\n",
    "for i in range(len(ellll)):\n",
    "    ellll.at[i, 'y'] = yy[i][0]\n",
    "p = p.append(ellll, ignore_index=True)\n",
    "ellll = xyze[['x', 'y', 'z', 'el']]\n",
    "for i in range(len(ellll)):\n",
    "    ellll.at[i, 'x'] = xxx[i][0]\n",
    "p = p.append(ellll, ignore_index=True)\n",
    "ellll = xyze[['x', 'y', 'z', 'el']]\n",
    "for i in range(len(ellll)):\n",
    "    ellll.at[i, 'x'] = xx[i][0]\n",
    "p = p.append(ellll, ignore_index=True)\n",
    "\n",
    "#max(p['y'])\n",
    "print(min(ellll['y']))"
   ]
  },
  {
   "cell_type": "code",
   "execution_count": 56,
   "metadata": {
    "colab": {
     "base_uri": "https://localhost:8080/"
    },
    "id": "JU-_zMSVeRLQ",
    "outputId": "b336530b-2d7f-4e07-f1e3-40450f3f56f0"
   },
   "outputs": [
    {
     "name": "stdout",
     "output_type": "stream",
     "text": [
      "318\n"
     ]
    }
   ],
   "source": [
    "xv = np.array(xyze[['x']]) + cell_size\n",
    "yv = np.array(xyze[['y']]) + cell_size\n",
    "elm = xyze[['x', 'y', 'z', 'el']]\n",
    "for i in range(len(elm)):\n",
    "    elm.at[i, 'x'] = xv[i][0]\n",
    "    elm.at[i, 'y'] = yv[i][0]\n",
    "p = p.append(elm, ignore_index=True)\n",
    "print(len(p))"
   ]
  },
  {
   "cell_type": "code",
   "execution_count": 57,
   "metadata": {
    "colab": {
     "base_uri": "https://localhost:8080/"
    },
    "id": "WEigcp-keTga",
    "outputId": "af0f730f-94e6-42ad-f50e-cb7f60b13a7a"
   },
   "outputs": [
    {
     "name": "stdout",
     "output_type": "stream",
     "text": [
      "371\n"
     ]
    }
   ],
   "source": [
    "xv = np.array(xyze[['x']]) - cell_size\n",
    "yv = np.array(xyze[['y']]) - cell_size\n",
    "elm = xyze[['x', 'y', 'z', 'el']]\n",
    "for i in range(len(elm)):\n",
    "    elm.at[i, 'x'] = xv[i][0]\n",
    "    elm.at[i, 'y'] = yv[i][0]\n",
    "p = p.append(elm, ignore_index=True)\n",
    "print(len(p))"
   ]
  },
  {
   "cell_type": "code",
   "execution_count": 58,
   "metadata": {
    "colab": {
     "base_uri": "https://localhost:8080/"
    },
    "id": "uCEcj-sNeV0f",
    "outputId": "aaba68e0-1247-4bb6-d050-fd3ea53f5c60"
   },
   "outputs": [
    {
     "name": "stdout",
     "output_type": "stream",
     "text": [
      "424\n"
     ]
    }
   ],
   "source": [
    "xv = np.array(xyze[['x']]) - cell_size\n",
    "yv = np.array(xyze[['y']]) + cell_size\n",
    "elm = xyze[['x', 'y', 'z', 'el']]\n",
    "for i in range(len(elm)):\n",
    "    elm.at[i, 'x'] = xv[i][0]\n",
    "    elm.at[i, 'y'] = yv[i][0]\n",
    "p = p.append(elm, ignore_index=True)\n",
    "print(len(p))"
   ]
  },
  {
   "cell_type": "code",
   "execution_count": 59,
   "metadata": {},
   "outputs": [
    {
     "name": "stdout",
     "output_type": "stream",
     "text": [
      "477\n"
     ]
    }
   ],
   "source": [
    "xv = np.array(xyze[['x']]) + cell_size\n",
    "yv = np.array(xyze[['y']]) - cell_size\n",
    "elm = xyze[['x', 'y', 'z', 'el']]\n",
    "for i in range(len(elm)):\n",
    "    elm.at[i, 'x'] = xv[i][0]\n",
    "    elm.at[i, 'y'] = yv[i][0]\n",
    "p = p.append(elm, ignore_index=True)\n",
    "print(len(p))"
   ]
  },
  {
   "cell_type": "code",
   "execution_count": 60,
   "metadata": {},
   "outputs": [],
   "source": [
    "#df.drop(df[df['Fee'] >= 24000].index, inplace = True)\n",
    "p.drop(p[(p['x']<-4) | (p['x']>cell_size+4)|(p['y']<-4) | (p['y']>cell_size+4)|(p['z']<-4) | (p['z']>cell_size+4)].index,inplace = True)"
   ]
  },
  {
   "cell_type": "code",
   "execution_count": 61,
   "metadata": {},
   "outputs": [
    {
     "data": {
      "text/html": [
       "<div>\n",
       "<style scoped>\n",
       "    .dataframe tbody tr th:only-of-type {\n",
       "        vertical-align: middle;\n",
       "    }\n",
       "\n",
       "    .dataframe tbody tr th {\n",
       "        vertical-align: top;\n",
       "    }\n",
       "\n",
       "    .dataframe thead th {\n",
       "        text-align: right;\n",
       "    }\n",
       "</style>\n",
       "<table border=\"1\" class=\"dataframe\">\n",
       "  <thead>\n",
       "    <tr style=\"text-align: right;\">\n",
       "      <th></th>\n",
       "      <th>x</th>\n",
       "      <th>y</th>\n",
       "      <th>z</th>\n",
       "      <th>el</th>\n",
       "    </tr>\n",
       "  </thead>\n",
       "  <tbody>\n",
       "    <tr>\n",
       "      <th>0</th>\n",
       "      <td>6.535655</td>\n",
       "      <td>3.865218</td>\n",
       "      <td>8.938686</td>\n",
       "      <td>Zn</td>\n",
       "    </tr>\n",
       "    <tr>\n",
       "      <th>1</th>\n",
       "      <td>8.777237</td>\n",
       "      <td>3.866583</td>\n",
       "      <td>6.696617</td>\n",
       "      <td>Zn</td>\n",
       "    </tr>\n",
       "    <tr>\n",
       "      <th>2</th>\n",
       "      <td>8.777033</td>\n",
       "      <td>6.107019</td>\n",
       "      <td>8.937933</td>\n",
       "      <td>Zn</td>\n",
       "    </tr>\n",
       "    <tr>\n",
       "      <th>3</th>\n",
       "      <td>6.536216</td>\n",
       "      <td>6.107185</td>\n",
       "      <td>6.697600</td>\n",
       "      <td>Zn</td>\n",
       "    </tr>\n",
       "    <tr>\n",
       "      <th>4</th>\n",
       "      <td>7.656529</td>\n",
       "      <td>4.986502</td>\n",
       "      <td>7.817709</td>\n",
       "      <td>O</td>\n",
       "    </tr>\n",
       "    <tr>\n",
       "      <th>...</th>\n",
       "      <td>...</td>\n",
       "      <td>...</td>\n",
       "      <td>...</td>\n",
       "      <td>...</td>\n",
       "    </tr>\n",
       "    <tr>\n",
       "      <th>314</th>\n",
       "      <td>15.520215</td>\n",
       "      <td>16.021023</td>\n",
       "      <td>6.049512</td>\n",
       "      <td>F</td>\n",
       "    </tr>\n",
       "    <tr>\n",
       "      <th>360</th>\n",
       "      <td>-3.382217</td>\n",
       "      <td>0.000000</td>\n",
       "      <td>9.589416</td>\n",
       "      <td>F</td>\n",
       "    </tr>\n",
       "    <tr>\n",
       "      <th>364</th>\n",
       "      <td>-3.595682</td>\n",
       "      <td>-2.715022</td>\n",
       "      <td>9.375083</td>\n",
       "      <td>H</td>\n",
       "    </tr>\n",
       "    <tr>\n",
       "      <th>415</th>\n",
       "      <td>-3.380086</td>\n",
       "      <td>16.020768</td>\n",
       "      <td>2.889800</td>\n",
       "      <td>F</td>\n",
       "    </tr>\n",
       "    <tr>\n",
       "      <th>421</th>\n",
       "      <td>-3.381081</td>\n",
       "      <td>16.018981</td>\n",
       "      <td>0.000000</td>\n",
       "      <td>F</td>\n",
       "    </tr>\n",
       "  </tbody>\n",
       "</table>\n",
       "<p>95 rows × 4 columns</p>\n",
       "</div>"
      ],
      "text/plain": [
       "             x          y         z  el\n",
       "0     6.535655   3.865218  8.938686  Zn\n",
       "1     8.777237   3.866583  6.696617  Zn\n",
       "2     8.777033   6.107019  8.937933  Zn\n",
       "3     6.536216   6.107185  6.697600  Zn\n",
       "4     7.656529   4.986502  7.817709   O\n",
       "..         ...        ...       ...  ..\n",
       "314  15.520215  16.021023  6.049512   F\n",
       "360  -3.382217   0.000000  9.589416   F\n",
       "364  -3.595682  -2.715022  9.375083   H\n",
       "415  -3.380086  16.020768  2.889800   F\n",
       "421  -3.381081  16.018981  0.000000   F\n",
       "\n",
       "[95 rows x 4 columns]"
      ]
     },
     "execution_count": 61,
     "metadata": {},
     "output_type": "execute_result"
    }
   ],
   "source": [
    "p"
   ]
  },
  {
   "cell_type": "code",
   "execution_count": 62,
   "metadata": {
    "id": "lQU8ayJtQKFh"
   },
   "outputs": [],
   "source": [
    "e_l = []\n",
    "g_l = []\n",
    "for i in np.array(p[['el']]):\n",
    "  e_l.append(e[i[0]])\n",
    "  g_l.append(g[i[0]])"
   ]
  },
  {
   "cell_type": "code",
   "execution_count": 63,
   "metadata": {
    "id": "ghZPeKnGQ3Jn"
   },
   "outputs": [],
   "source": [
    "p['e'] = e_l"
   ]
  },
  {
   "cell_type": "code",
   "execution_count": 64,
   "metadata": {
    "id": "0WBVf_l5RUYn"
   },
   "outputs": [],
   "source": [
    "p['g'] = g_l"
   ]
  },
  {
   "cell_type": "code",
   "execution_count": 65,
   "metadata": {
    "id": "9cruF10nRXcv"
   },
   "outputs": [],
   "source": [
    "p = p.drop(['el'], axis=1)"
   ]
  },
  {
   "cell_type": "code",
   "execution_count": 66,
   "metadata": {
    "colab": {
     "base_uri": "https://localhost:8080/",
     "height": 424
    },
    "id": "-XD31QhRRthr",
    "outputId": "de8d3e8b-cbbc-4be0-802a-8d2941ddd0ff"
   },
   "outputs": [
    {
     "data": {
      "text/html": [
       "<div>\n",
       "<style scoped>\n",
       "    .dataframe tbody tr th:only-of-type {\n",
       "        vertical-align: middle;\n",
       "    }\n",
       "\n",
       "    .dataframe tbody tr th {\n",
       "        vertical-align: top;\n",
       "    }\n",
       "\n",
       "    .dataframe thead th {\n",
       "        text-align: right;\n",
       "    }\n",
       "</style>\n",
       "<table border=\"1\" class=\"dataframe\">\n",
       "  <thead>\n",
       "    <tr style=\"text-align: right;\">\n",
       "      <th></th>\n",
       "      <th>x</th>\n",
       "      <th>y</th>\n",
       "      <th>z</th>\n",
       "      <th>e</th>\n",
       "      <th>g</th>\n",
       "    </tr>\n",
       "  </thead>\n",
       "  <tbody>\n",
       "    <tr>\n",
       "      <th>0</th>\n",
       "      <td>6.535655</td>\n",
       "      <td>3.865218</td>\n",
       "      <td>8.938686</td>\n",
       "      <td>0.052207</td>\n",
       "      <td>1.739032</td>\n",
       "    </tr>\n",
       "    <tr>\n",
       "      <th>1</th>\n",
       "      <td>8.777237</td>\n",
       "      <td>3.866583</td>\n",
       "      <td>6.696617</td>\n",
       "      <td>0.052207</td>\n",
       "      <td>1.739032</td>\n",
       "    </tr>\n",
       "    <tr>\n",
       "      <th>2</th>\n",
       "      <td>8.777033</td>\n",
       "      <td>6.107019</td>\n",
       "      <td>8.937933</td>\n",
       "      <td>0.052207</td>\n",
       "      <td>1.739032</td>\n",
       "    </tr>\n",
       "    <tr>\n",
       "      <th>3</th>\n",
       "      <td>6.536216</td>\n",
       "      <td>6.107185</td>\n",
       "      <td>6.697600</td>\n",
       "      <td>0.052207</td>\n",
       "      <td>1.739032</td>\n",
       "    </tr>\n",
       "    <tr>\n",
       "      <th>4</th>\n",
       "      <td>7.656529</td>\n",
       "      <td>4.986502</td>\n",
       "      <td>7.817709</td>\n",
       "      <td>0.001891</td>\n",
       "      <td>1.520000</td>\n",
       "    </tr>\n",
       "    <tr>\n",
       "      <th>...</th>\n",
       "      <td>...</td>\n",
       "      <td>...</td>\n",
       "      <td>...</td>\n",
       "      <td>...</td>\n",
       "      <td>...</td>\n",
       "    </tr>\n",
       "    <tr>\n",
       "      <th>314</th>\n",
       "      <td>15.520215</td>\n",
       "      <td>16.021023</td>\n",
       "      <td>6.049512</td>\n",
       "      <td>0.006227</td>\n",
       "      <td>0.812496</td>\n",
       "    </tr>\n",
       "    <tr>\n",
       "      <th>360</th>\n",
       "      <td>-3.382217</td>\n",
       "      <td>0.000000</td>\n",
       "      <td>9.589416</td>\n",
       "      <td>0.006227</td>\n",
       "      <td>0.812496</td>\n",
       "    </tr>\n",
       "    <tr>\n",
       "      <th>364</th>\n",
       "      <td>-3.595682</td>\n",
       "      <td>-2.715022</td>\n",
       "      <td>9.375083</td>\n",
       "      <td>0.000862</td>\n",
       "      <td>1.200000</td>\n",
       "    </tr>\n",
       "    <tr>\n",
       "      <th>415</th>\n",
       "      <td>-3.380086</td>\n",
       "      <td>16.020768</td>\n",
       "      <td>2.889800</td>\n",
       "      <td>0.006227</td>\n",
       "      <td>0.812496</td>\n",
       "    </tr>\n",
       "    <tr>\n",
       "      <th>421</th>\n",
       "      <td>-3.381081</td>\n",
       "      <td>16.018981</td>\n",
       "      <td>0.000000</td>\n",
       "      <td>0.006227</td>\n",
       "      <td>0.812496</td>\n",
       "    </tr>\n",
       "  </tbody>\n",
       "</table>\n",
       "<p>95 rows × 5 columns</p>\n",
       "</div>"
      ],
      "text/plain": [
       "             x          y         z         e         g\n",
       "0     6.535655   3.865218  8.938686  0.052207  1.739032\n",
       "1     8.777237   3.866583  6.696617  0.052207  1.739032\n",
       "2     8.777033   6.107019  8.937933  0.052207  1.739032\n",
       "3     6.536216   6.107185  6.697600  0.052207  1.739032\n",
       "4     7.656529   4.986502  7.817709  0.001891  1.520000\n",
       "..         ...        ...       ...       ...       ...\n",
       "314  15.520215  16.021023  6.049512  0.006227  0.812496\n",
       "360  -3.382217   0.000000  9.589416  0.006227  0.812496\n",
       "364  -3.595682  -2.715022  9.375083  0.000862  1.200000\n",
       "415  -3.380086  16.020768  2.889800  0.006227  0.812496\n",
       "421  -3.381081  16.018981  0.000000  0.006227  0.812496\n",
       "\n",
       "[95 rows x 5 columns]"
      ]
     },
     "execution_count": 66,
     "metadata": {},
     "output_type": "execute_result"
    }
   ],
   "source": [
    "p"
   ]
  },
  {
   "cell_type": "code",
   "execution_count": 67,
   "metadata": {},
   "outputs": [],
   "source": [
    "from functools import wraps\n",
    "import time\n",
    "\n",
    "\n",
    "def timeit(func):\n",
    "    @wraps(func)\n",
    "    def timeit_wrapper(*args, **kwargs):\n",
    "        start_time = time.perf_counter()\n",
    "        result = func(*args, **kwargs)\n",
    "        end_time = time.perf_counter()\n",
    "        total_time = end_time - start_time\n",
    "        print(f'Function {func.__name__}{args} {kwargs} Took {total_time:.7f} seconds')\n",
    "        return result\n",
    "    return timeit_wrapper"
   ]
  },
  {
   "cell_type": "code",
   "execution_count": 68,
   "metadata": {
    "id": "SFUyTq1CebN7"
   },
   "outputs": [],
   "source": [
    "#@timeit\n",
    "def JL(e, g, r):\n",
    "    if r == 0:\n",
    "        r = 0.1\n",
    "    return 4*e*((g/r)**12 - (g/r)**6)\n",
    "\n",
    "   \n",
    "\n",
    "@np.vectorize\n",
    "def ff(x, y, z):\n",
    "    en = 0\n",
    "    for obj in np.array(p[['x', 'y', 'z', 'e', 'g']]):\n",
    "        start_time = time.perf_counter()\n",
    "        r1 = ((x - float(obj[0]))**2 + (y - float(obj[1]))**2 +\n",
    "              (z - float(obj[2]))**2)**0.5\n",
    "        en += JL(float(obj[3]), float(obj[4]), r1)\n",
    "        end_time = time.perf_counter()\n",
    "        total_time = end_time - start_time\n",
    "        #print(f'Cycle took {total_time:.7f} seconds')\n",
    "    return en"
   ]
  },
  {
   "cell_type": "code",
   "execution_count": 69,
   "metadata": {
    "colab": {
     "base_uri": "https://localhost:8080/"
    },
    "id": "jgAU355CeeDO",
    "outputId": "80a3616a-3f13-4d7c-fb21-f538c4378524"
   },
   "outputs": [
    {
     "name": "stdout",
     "output_type": "stream",
     "text": [
      "Wall time: 30.4 s\n"
     ]
    }
   ],
   "source": [
    "%%time\n",
    "ee = ff(X, Y, Z)"
   ]
  },
  {
   "cell_type": "code",
   "execution_count": 24,
   "metadata": {},
   "outputs": [
    {
     "data": {
      "text/plain": [
       "3    6.536216\n",
       "Name: x, dtype: float64"
      ]
     },
     "execution_count": 24,
     "metadata": {},
     "output_type": "execute_result"
    }
   ],
   "source": [
    "p.iloc[[3]]['x']"
   ]
  },
  {
   "cell_type": "code",
   "execution_count": 25,
   "metadata": {},
   "outputs": [],
   "source": [
    "def binary_search(df, target, threshold=4):\n",
    "  # Get the 'x' column from the DataFrame as a NumPy array\n",
    "  arr = df['x'].values\n",
    "  # Set the initial low and high indices for the binary search\n",
    "  low = 0\n",
    "  high = len(arr) - 1\n",
    "  results = pd.DataFrame(columns=['x', 'y', 'z', 'e', 'g'])  # Initialize an empty list to store the results\n",
    "\n",
    "  # Loop until the low index is greater than the high index\n",
    "  while low <= high:\n",
    "    # Calculate the midpoint of the current range\n",
    "    mid = (low + high) // 2\n",
    "    # If the difference between the target and the midpoint value is within the threshold, add the corresponding row to the results\n",
    "    if abs(arr[mid] - target) <= threshold:\n",
    "      results = results.append(df.iloc[mid])\n",
    "      # Set the low index to be one greater than the midpoint to search for more values in the upper half of the list\n",
    "      low = mid + 1\n",
    "    # If the midpoint value is less than the target, set the low index to be one greater than the midpoint\n",
    "    elif arr[mid] < target:\n",
    "      low = mid + 1\n",
    "    # If the midpoint value is greater than the target, set the high index to be one less than the midpoint\n",
    "    else:\n",
    "      high = mid - 1\n",
    "\n",
    "  # Return the list of results\n",
    "  return results\n",
    "\n",
    "\n",
    "@np.vectorize\n",
    "def ff_sort(x, y, z):\n",
    "    points = pd.DataFrame(columns=['x', 'y', 'z', 'e', 'g'])\n",
    "    x_sort = p.sort_values(by='x', ascending=False)\n",
    "    y_sort = p.sort_values(by='y', ascending=False)\n",
    "    z_sort = p.sort_values(by='z', ascending=False)\n",
    "    points = points.append(binary_search(x_sort, x))\n",
    "    points = points.append(binary_search(y_sort, y))\n",
    "    points = points.append(binary_search(z_sort, z))\n",
    "    points = points.drop_duplicates()\n",
    "    en = 0\n",
    "    for obj in np.array(points[['x', 'y', 'z', 'e', 'g']]):\n",
    "        r1 = ((x - float(obj[0]))**2 + (y - float(obj[1]))**2 +\n",
    "              (z - float(obj[2]))**2)**0.5\n",
    "        en += JL(float(obj[3]), float(obj[4]), r1)\n",
    "    return en"
   ]
  },
  {
   "cell_type": "code",
   "execution_count": 27,
   "metadata": {},
   "outputs": [],
   "source": [
    "@np.vectorize\n",
    "def foo(x,y,z):\n",
    "    e = x+y+z"
   ]
  },
  {
   "cell_type": "code",
   "execution_count": 28,
   "metadata": {
    "colab": {
     "base_uri": "https://localhost:8080/"
    },
    "id": "4fBs8iYzpE1N",
    "outputId": "eeb6a59d-e725-49e6-dc7e-c4e4b2ea0fc5"
   },
   "outputs": [
    {
     "name": "stdout",
     "output_type": "stream",
     "text": [
      "Wall time: 117 ms\n"
     ]
    },
    {
     "data": {
      "text/plain": [
       "array([[[None, None, None, ..., None, None, None],\n",
       "        [None, None, None, ..., None, None, None],\n",
       "        [None, None, None, ..., None, None, None],\n",
       "        ...,\n",
       "        [None, None, None, ..., None, None, None],\n",
       "        [None, None, None, ..., None, None, None],\n",
       "        [None, None, None, ..., None, None, None]],\n",
       "\n",
       "       [[None, None, None, ..., None, None, None],\n",
       "        [None, None, None, ..., None, None, None],\n",
       "        [None, None, None, ..., None, None, None],\n",
       "        ...,\n",
       "        [None, None, None, ..., None, None, None],\n",
       "        [None, None, None, ..., None, None, None],\n",
       "        [None, None, None, ..., None, None, None]],\n",
       "\n",
       "       [[None, None, None, ..., None, None, None],\n",
       "        [None, None, None, ..., None, None, None],\n",
       "        [None, None, None, ..., None, None, None],\n",
       "        ...,\n",
       "        [None, None, None, ..., None, None, None],\n",
       "        [None, None, None, ..., None, None, None],\n",
       "        [None, None, None, ..., None, None, None]],\n",
       "\n",
       "       ...,\n",
       "\n",
       "       [[None, None, None, ..., None, None, None],\n",
       "        [None, None, None, ..., None, None, None],\n",
       "        [None, None, None, ..., None, None, None],\n",
       "        ...,\n",
       "        [None, None, None, ..., None, None, None],\n",
       "        [None, None, None, ..., None, None, None],\n",
       "        [None, None, None, ..., None, None, None]],\n",
       "\n",
       "       [[None, None, None, ..., None, None, None],\n",
       "        [None, None, None, ..., None, None, None],\n",
       "        [None, None, None, ..., None, None, None],\n",
       "        ...,\n",
       "        [None, None, None, ..., None, None, None],\n",
       "        [None, None, None, ..., None, None, None],\n",
       "        [None, None, None, ..., None, None, None]],\n",
       "\n",
       "       [[None, None, None, ..., None, None, None],\n",
       "        [None, None, None, ..., None, None, None],\n",
       "        [None, None, None, ..., None, None, None],\n",
       "        ...,\n",
       "        [None, None, None, ..., None, None, None],\n",
       "        [None, None, None, ..., None, None, None],\n",
       "        [None, None, None, ..., None, None, None]]], dtype=object)"
      ]
     },
     "execution_count": 28,
     "metadata": {},
     "output_type": "execute_result"
    }
   ],
   "source": [
    "%%time\n",
    "foo(X,Y,Z)"
   ]
  },
  {
   "cell_type": "code",
   "execution_count": null,
   "metadata": {},
   "outputs": [],
   "source": []
  }
 ],
 "metadata": {
  "accelerator": "GPU",
  "colab": {
   "provenance": []
  },
  "gpuClass": "standard",
  "kernelspec": {
   "display_name": "Python 3 (ipykernel)",
   "language": "python",
   "name": "python3"
  },
  "language_info": {
   "codemirror_mode": {
    "name": "ipython",
    "version": 3
   },
   "file_extension": ".py",
   "mimetype": "text/x-python",
   "name": "python",
   "nbconvert_exporter": "python",
   "pygments_lexer": "ipython3",
   "version": "3.9.7"
  }
 },
 "nbformat": 4,
 "nbformat_minor": 4
}
